{
 "cells": [
  {
   "cell_type": "code",
   "execution_count": 65,
   "metadata": {},
   "outputs": [],
   "source": [
    "import pandas as pd\n",
    "import matplotlib.pyplot as plt"
   ]
  },
  {
   "cell_type": "code",
   "execution_count": 66,
   "metadata": {},
   "outputs": [],
   "source": [
    "data = pd.read_csv('number-of-people-with-cancer_kenya.csv')\n",
    "\n",
    "data = data.drop(labels=['Entity','Code'], axis=1)"
   ]
  },
  {
   "cell_type": "code",
   "execution_count": 67,
   "metadata": {},
   "outputs": [
    {
     "name": "stdout",
     "output_type": "stream",
     "text": [
      "    Year   Prevalence\n",
      "0   1990  34527.43496\n",
      "1   1991  35984.94504\n",
      "2   1992  37624.73622\n",
      "3   1993  39305.55737\n",
      "4   1994  41063.70775\n",
      "5   1995  42823.64501\n",
      "6   1996  44435.08578\n",
      "7   1997  46061.64694\n",
      "8   1998  47638.68329\n",
      "9   1999  48944.33706\n",
      "10  2000  50710.16868\n",
      "11  2001  51831.43194\n",
      "12  2002  54043.60856\n",
      "13  2003  56507.94700\n",
      "14  2004  58607.88445\n",
      "15  2005  60903.79337\n",
      "16  2006  63641.31285\n",
      "17  2007  66212.04044\n",
      "18  2008  69104.74389\n",
      "19  2009  72463.65100\n",
      "20  2010  76878.12713\n",
      "21  2011  79814.78307\n",
      "22  2012  82399.83896\n",
      "23  2013  85402.26507\n",
      "24  2014  88385.98146\n",
      "25  2015  91654.38403\n",
      "26  2016  95419.28709\n",
      "27  2017  99645.54098\n"
     ]
    }
   ],
   "source": [
    "print(data)"
   ]
  },
  {
   "cell_type": "code",
   "execution_count": 68,
   "metadata": {},
   "outputs": [],
   "source": [
    "#Kenya = data[data.Entity == 'Entity']\n",
    "Year = data[data.Year == 'year']\n",
    "Prevelence = data[data.Prevalence == 'Prevalence']"
   ]
  },
  {
   "cell_type": "code",
   "execution_count": 89,
   "metadata": {},
   "outputs": [
    {
     "data": {
      "text/plain": [
       "Text(0, 0.5, 'Cancer Patients')"
      ]
     },
     "execution_count": 89,
     "metadata": {},
     "output_type": "execute_result"
    },
    {
     "data": {
      "image/png": "[encoded data removed]",
      "text/plain": [
       "<Figure size 432x288 with 1 Axes>"
      ]
     },
     "metadata": {
      "needs_background": "light"
     },
     "output_type": "display_data"
    }
   ],
   "source": [
    "lines = data.plot.line(x = 'Year',y = 'Prevalence',color = {'Prevalence':'red'}, grid = True, legend = False, title = \"Kenya\")\n",
    "lines.set_ylabel(\"Cancer Patients\")"
   ]
  },
  {
   "cell_type": "code",
   "execution_count": 86,
   "metadata": {},
   "outputs": [],
   "source": [
    "plt.show()"
   ]
  },
  {
   "cell_type": "code",
   "execution_count": null,
   "metadata": {},
   "outputs": [],
   "source": []
  }
 ],
 "metadata": {
  "kernelspec": {
   "display_name": "Python 3",
   "language": "python",
   "name": "python3"
  },
  "language_info": {
   "codemirror_mode": {
    "name": "ipython",
    "version": 3
   },
   "file_extension": ".py",
   "mimetype": "text/x-python",
   "name": "python",
   "nbconvert_exporter": "python",
   "pygments_lexer": "ipython3",
   "version": "3.6.9"
  }
 },
 "nbformat": 4,
 "nbformat_minor": 2
}
